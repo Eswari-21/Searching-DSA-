{
  "nbformat": 4,
  "nbformat_minor": 0,
  "metadata": {
    "colab": {
      "provenance": [],
      "authorship_tag": "ABX9TyMeK93rrsNnwgwctg39Zi93",
      "include_colab_link": true
    },
    "kernelspec": {
      "name": "python3",
      "display_name": "Python 3"
    },
    "language_info": {
      "name": "python"
    }
  },
  "cells": [
    {
      "cell_type": "markdown",
      "metadata": {
        "id": "view-in-github",
        "colab_type": "text"
      },
      "source": [
        "<a href=\"https://colab.research.google.com/github/Eswari-21/Searching-DSA-/blob/main/DSA.ipynb\" target=\"_parent\"><img src=\"https://colab.research.google.com/assets/colab-badge.svg\" alt=\"Open In Colab\"/></a>"
      ]
    },
    {
      "cell_type": "markdown",
      "source": [
        "# DSA\n",
        "## Built-in Data Structures"
      ],
      "metadata": {
        "id": "7ksqoqG9P-3P"
      }
    },
    {
      "cell_type": "markdown",
      "source": [
        "#### List (mutable)\n",
        "#### Tuple (immutable)\n",
        "#### Set (mutable)\n",
        "#### Dict (key value pair / mutable)\n",
        "#### Str\n",
        "\n",
        "## Modules\n",
        "#### collections\n",
        "#### deque\n",
        "\n",
        "\n",
        "\n",
        "## DS\n",
        "## 1 to 6 is linear\n",
        "#### 1.Arrays/lists\n",
        "#### 2. String\n",
        "#### 3. Stacks\n",
        "#### 4. Queues\n",
        "#### 5. Linked list\n",
        "#### 6. Hashing/Hashtables\n",
        "## 7 to 11 non-linear and (10 and 11 is non-linear abstract ds)\n",
        "#### 7. Sets\n",
        "#### 8.Tree\n",
        "#### 9. Graphs\n",
        "#### 10. Heaps/ Priority Queue\n",
        "#### 11. Trie - Prefix\n",
        "#### 12. Recursion / Backtracking\n",
        "#### 13. Searching\n",
        "#### 14. Sorting\n",
        "#### 15. Greedy/brute force\n",
        "\n"
      ],
      "metadata": {
        "id": "1mKmZIdKQCZ9"
      }
    },
    {
      "cell_type": "markdown",
      "source": [
        "## Array Operations\n",
        "#### program to consider a list arr=[10,20,30,40] and perform insert operation  with 50 and 25 at position 2 respectively, delete 30 and traverse the array to fetch an number 25 is present or not."
      ],
      "metadata": {
        "id": "dOWrOi4YU-yV"
      }
    },
    {
      "cell_type": "code",
      "source": [
        "arr = [10,20,30,40]\n",
        "# insert\n",
        "arr.append(50)\n",
        "arr.insert(2,25)\n",
        "print(arr)\n",
        "# Delete\n",
        "arr.remove(30)\n",
        "arr.pop()  #TO REMOVE THE TOP MOST ELEMENT IN LIST(HERE EXAMPLE IS 50)\n",
        "print(arr)\n",
        "# Traversal\n",
        "for i in arr:\n",
        "  print(i,end=\" \")\n",
        "# searching\n",
        "print(\"\\n 25 in array\",25 in arr)\n",
        "print(arr)"
      ],
      "metadata": {
        "colab": {
          "base_uri": "https://localhost:8080/"
        },
        "id": "55l1SnNEUrmV",
        "outputId": "4aaa41d7-48c9-4348-c1c5-a37e0e7d5c1f"
      },
      "execution_count": null,
      "outputs": [
        {
          "output_type": "stream",
          "name": "stdout",
          "text": [
            "[10, 20, 25, 30, 40, 50]\n",
            "[10, 20, 25, 40]\n",
            "10 20 25 40 \n",
            " 25 in array True\n",
            "[10, 20, 25, 40]\n"
          ]
        }
      ]
    },
    {
      "cell_type": "markdown",
      "source": [
        "#### Program to check whether the given string is Palindrome or not and count the palindrome characters which are repeated\n",
        "#### str = madam\n",
        "#### output: {'m':2,'a':2,'d':1}\n",
        "#### str = malayalam"
      ],
      "metadata": {
        "id": "mSJdFSqqaHhO"
      }
    },
    {
      "cell_type": "code",
      "source": [
        "text = \"eswari naga durga\"\n",
        "if text==text[::-1]:\n",
        "  print(\"palindrome\")\n",
        "else:\n",
        "  print(\"not palindrome\")\n",
        "freq = {}\n",
        "for ch in text:\n",
        "  freq[ch]=freq.get(ch,0)+1\n",
        "print(freq)"
      ],
      "metadata": {
        "colab": {
          "base_uri": "https://localhost:8080/"
        },
        "id": "G3iheeewa8cG",
        "outputId": "e638bc30-05b2-443e-a0e1-1323e140bd2e"
      },
      "execution_count": null,
      "outputs": [
        {
          "output_type": "stream",
          "name": "stdout",
          "text": [
            "not palindrome\n",
            "{'e': 1, 's': 1, 'w': 1, 'a': 4, 'r': 2, 'i': 1, ' ': 2, 'n': 1, 'g': 2, 'd': 1, 'u': 1}\n"
          ]
        }
      ]
    },
    {
      "cell_type": "markdown",
      "source": [
        "## Searching\n",
        "#### linear\n",
        "#### Binary\n",
        "#### Sentinel Search\n",
        "#### Fibonacci Search\n",
        "#### Interpolation search"
      ],
      "metadata": {
        "id": "vJaLuE6rglma"
      }
    },
    {
      "cell_type": "markdown",
      "metadata": {
        "id": "7f3ea9cd"
      },
      "source": [
        "## Linear Search Definition\n",
        "\n",
        "Linear search, also known as sequential search, is a method for finding an element within a list. It sequentially checks each element of the list until a match is found or the end of the list is reached.  \n",
        "\n",
        "(in sorted or unsorted arrays)\n",
        "##### ex: [45, -9 , 77 , 32 ]\n",
        "#### Algorithm for Linear search\n",
        "##### 1. Arr of list of size n\n",
        "##### 2. Key for search element\n",
        "##### 3. Start with Zero Index\n",
        "##### 4. Compare arr[i]==key\n",
        "             arr[i] = key return index\n",
        "             else not(move to next index)\n",
        "##### Default->element not found\n",
        "##### 5.Repeat same steps untill n-1\n",
        "##### 6. If no match return -1"
      ]
    },
    {
      "cell_type": "code",
      "source": [
        "def linear_search(arr,key):\n",
        "  for i in range(len(arr)):\n",
        "    if arr[i]==key:\n",
        "      return i\n",
        "  return -1\n",
        "size = int(input(\"enter the size of array\"))\n",
        "arr = []\n",
        "print(\"enter the elements\")\n",
        "for i in range(size):\n",
        "  num = int(input(f\"element :{i+1}:\"))\n",
        "  arr.append(num)\n",
        "key = int(input(\"enter the element to search\"))\n",
        "result = linear_search(arr,key)\n",
        "if result==1:\n",
        "  print(\"element found\")\n",
        "else:\n",
        "  print(\"element not found\")\n"
      ],
      "metadata": {
        "colab": {
          "base_uri": "https://localhost:8080/"
        },
        "id": "ICN0UnuOiENr",
        "outputId": "c02d5218-526a-46a0-9aea-4b0ca7f29f3d"
      },
      "execution_count": null,
      "outputs": [
        {
          "name": "stdout",
          "output_type": "stream",
          "text": [
            "enter the size of array3\n",
            "enter the elements\n",
            "element :1:21\n",
            "element :2:31\n"
          ]
        }
      ]
    },
    {
      "cell_type": "markdown",
      "metadata": {
        "id": "b823c046"
      },
      "source": [
        "## Binary Search Definition\n",
        "\n",
        "Binary search is an efficient algorithm for finding a specific element within a **sorted** array or list. Unlike linear search which checks each element sequentially, binary search repeatedly divides the search interval in half.\n",
        "\n",
        "Here's how it works:\n",
        "\n",
        "1. **Start with the middle element:** Compare the target value with the middle element of the sorted array.\n",
        "2. **Divide and conquer:**\n",
        "   - If the target value matches the middle element, you've found it.\n",
        "   - If the target value is less than the middle element, the search continues in the left half of the array.\n",
        "   - If the target value is greater than the middle element, the search continues in the right half of the array.\n",
        "3. **Repeat:** This process of dividing the search interval in half is repeated until the target value is found or the interval becomes empty (meaning the element is not in the array).\n",
        "\n",
        "**Key Requirement:** Binary search requires the input array to be sorted. If the array is not sorted, you must sort it first before applying binary search."
      ]
    },
    {
      "cell_type": "markdown",
      "source": [
        "## Binary Search\n",
        "## Algorithm\n",
        "#### 1. array must be sorted\n",
        "#### 2. array is divided in to 2 separate equivalent halfs\n",
        "#### set low and high 0->n-1\n",
        "#### condition low<=high\n",
        "#### mid = low+high/2\n",
        "#### arr[mid]==key returb mid\n",
        "#### arr[mid]<key low mid+1\n",
        "#### arr[mid]>key high mid-1\n",
        "#### not found return -1\n"
      ],
      "metadata": {
        "id": "B7G6ISNjtmWf"
      }
    },
    {
      "cell_type": "code",
      "source": [
        "def binary_search (arr,key):\n",
        "  low =0\n",
        "  high = len(arr)-1\n",
        "  while low<=high:\n",
        "    mid = (low+high)//2\n",
        "    if arr[mid]==key:\n",
        "      return mid\n",
        "    elif arr[mid]<key:\n",
        "      return mid+1\n",
        "    else:\n",
        "      return mid-1\n",
        "size = int(input(\"enter the size of array\"))\n",
        "arr = []\n",
        "print(\"enter the elements\")\n",
        "for i in range(size):\n",
        "  num = int(input(f\"element :{i+1}:\"))\n",
        "  arr.append(num)\n",
        "key = int(input(\"enter the element to search\"))\n",
        "result = binary_search(arr,key)\n",
        "if result==1:\n",
        "  print(\"element found\")\n",
        "else:\n",
        "  print(\"element not found\")\n"
      ],
      "metadata": {
        "colab": {
          "base_uri": "https://localhost:8080/"
        },
        "id": "_7sOsVmlu4YY",
        "outputId": "d48b13c6-30d5-4d23-ef28-a842ad1d1539"
      },
      "execution_count": null,
      "outputs": [
        {
          "output_type": "stream",
          "name": "stdout",
          "text": [
            "enter the size of array3\n",
            "enter the elements\n",
            "element :1:21\n",
            "element :2:33\n",
            "element :3:54\n",
            "enter the element to search33\n",
            "element found\n"
          ]
        }
      ]
    },
    {
      "cell_type": "markdown",
      "metadata": {
        "id": "7e7d36c8"
      },
      "source": [
        "## Jump Search Definition\n",
        "\n",
        "Jump search is a searching algorithm for sorted arrays. It works by checking fewer elements compared to linear search by jumping ahead by fixed steps.\n",
        "\n",
        "The idea is to check elements at indexed `arr[0], arr[m], arr[2m], ...` until the element greater than the target element is found. Once a block is found where the target element might be present (i.e., `arr[km] < target < arr[(k+1)m]`), a linear search is performed on that block.\n",
        "\n",
        "## Algorithm for Jump Search\n",
        "\n",
        "1. **Determine the step size:** Choose a step size `m`. A common choice is the square root of the array size (`sqrt(n)`).\n",
        "2. **Jump through blocks:** Start at the beginning of the array. While the current element is less than the target and the end of the array has not been reached, jump to the next block by adding the step size to the current index.\n",
        "3. **Linear search within the block:** Once a block is found where the element at the jump index is greater than or equal to the target, perform a linear search backwards from the previous jump index up to the current jump index (or the end of the array, whichever comes first) to find the target element.\n",
        "4. **Return result:** If the target element is found during the linear search, return its index. Otherwise, return -1.\n",
        "\n",
        "**Key Requirement:** Jump search, like binary search, requires the input array to be sorted."
      ]
    },
    {
      "cell_type": "markdown",
      "source": [
        "## jump search (accessing any element)\n",
        "#### 1. Size n / Sorted\n",
        "#### 2. create a block key\n",
        "#### 3. Search operation will be performed\n",
        "#### arr[m] <var / key <arr(k+1)[m]\n",
        "#### 4. compare each jump linearly\n"
      ],
      "metadata": {
        "id": "RLNnVX-KX0Hv"
      }
    },
    {
      "cell_type": "code",
      "source": [
        "import math\n",
        "def jump_search(arr,target):\n",
        "  if not arr:\n",
        "    return -1\n",
        "  n = len(arr)\n",
        "  step = int(math.sqrt(n))\n",
        "  prev = 0\n",
        "  while prev <n and arr[prev]<target:\n",
        "    prev = min(prev+step,n-1)\n",
        "    if arr[prev]==target:\n",
        "      return prev\n",
        "      for i in range(prev-step,prev+1):\n",
        "        if arr[i]==target:\n",
        "          return i\n",
        "      return-1\n",
        "arr = [1,3,5,7,9,11,13]\n",
        "target = 9\n",
        "result = jump_search(arr,target)\n",
        "print(f\"Element {target} found at index: {result}\")"
      ],
      "metadata": {
        "colab": {
          "base_uri": "https://localhost:8080/"
        },
        "id": "qETZEYaiYhtV",
        "outputId": "1b3d9803-ce57-4d41-a603-07ebd974ec88"
      },
      "execution_count": null,
      "outputs": [
        {
          "output_type": "stream",
          "name": "stdout",
          "text": [
            "Element 9 found at index: 4\n"
          ]
        }
      ]
    },
    {
      "cell_type": "markdown",
      "source": [
        "## Exponential Search Definition\n",
        "Exponential search is a searching algorithm that is effective for searching in sorted, unbounded arrays (or lists). It works by first finding a range where the target element might be present, and then performing a binary search within that range.\n",
        "\n",
        "The key idea is to find a range [i/2, i] such that arr[i/2] <= target <= arr[i].\n",
        "\n",
        "## Algorithm for Exponential Search\n",
        "Check the first element: If the target element is the first element of the array, return its index (0).    \n",
        "#### Find the range:\n",
        "Start with i = 1. While i is within the array bounds and the element at index i is less than or equal to the target element, double the value of i.\n",
        "#### Perform Binary Search:\n",
        "Once the loop in step 2 terminates, the target element, if present, must lie within the range from i/2 to min(i, n-1), where n is the size of the array. Perform a binary search within this determined range.\n",
        "#### Return result:\n",
        "If the binary search finds the target element, return its index.\n",
        "If the binary search does not find the target element, return -1.\n",
        "#### Key Requirement:\n",
        "Exponential search, like binary search, requires the input array to be sorted."
      ],
      "metadata": {
        "id": "ZEU8QkGZlBTH"
      }
    },
    {
      "cell_type": "markdown",
      "source": [
        "## Exponential Search\n",
        "## Algorithm\n",
        "#### 1. Sorted number searching\n",
        "#### 2. Check the array != 0 m\n",
        "#### 3. check the first element\n",
        "#### 4. find the range using expo\n",
        "#### while for boundary  and identify the boundary\n",
        "#### 5. Range performe binary search\n",
        "#### 6. Retutn result"
      ],
      "metadata": {
        "id": "qED3-FCglehA"
      }
    },
    {
      "cell_type": "code",
      "source": [
        "def binary_search(arr, target, left, right):\n",
        "  while left <= right:\n",
        "    mid = (left + right)//2\n",
        "    if arr[mid] == target:\n",
        "      return mid\n",
        "    elif arr[mid] < target:\n",
        "      left = mid + 1\n",
        "    else:\n",
        "      right = mid - 1\n",
        "  return -1\n",
        "\n",
        "def exponential_search(arr, target):\n",
        "  if not arr:\n",
        "    return -1\n",
        "  if arr[0] == target:\n",
        "    return 0\n",
        "  n = len(arr)\n",
        "  i = 1\n",
        "  while i < n and target > arr[i]:\n",
        "    i *= 2\n",
        "  return binary_search(arr, target, i//2, min(i,n-1))\n",
        "\n",
        "\n",
        "arr = [2,4,6,8,10,12,14,16,18]\n",
        "target = 12\n",
        "result = exponential_search(arr, target)\n",
        "print(f\"Element {target} found at index :{result}\")\n"
      ],
      "metadata": {
        "colab": {
          "base_uri": "https://localhost:8080/"
        },
        "id": "PjMQLxREfSFH",
        "outputId": "bae63a10-0c19-4173-9445-dc0b95a51f76"
      },
      "execution_count": null,
      "outputs": [
        {
          "output_type": "stream",
          "name": "stdout",
          "text": [
            "Element 12 found at index :5\n"
          ]
        }
      ]
    },
    {
      "cell_type": "markdown",
      "source": [
        "### Fibonacci Search Definition (Easy to Understand)\n",
        "Fibonacci search is a clever way to find a specific item in a sorted list. Think of it like playing a guessing game where you use a special sequence of numbers (Fibonacci numbers like 1, 1, 2, 3, 5, 8...) to help you make your guesses.\n",
        "\n",
        "Instead of always cutting the list in half like in some other search methods, Fibonacci search uses these numbers to decide where to look next. It helps narrow down the possible location of the item you're searching for.\n",
        "\n",
        "### Simplified Algorithm for Fibonacci Search\n",
        "Get your sorted list and the item you want to find.\n",
        "Find a Fibonacci number that's just bigger than the length of your list.\n",
        "Use the Fibonacci numbers to pick a spot to check in the list.\n",
        "\n",
        "### Compare the item at that spot with the item you're looking for:\n",
        "If they match, you found it!\n",
        "If your item is smaller, you know it must be in the left part of where you looked.\n",
        "If your item is larger, you know it must be in the right part.\n",
        "Repeat steps 3 and 4, focusing on the smaller part of the list, until you find your item or run out of places to look.\n",
        "\n",
        "If you find it, tell us where it is (its position). If not, say you couldn't find it.\n",
        "### Important:\n",
        "This only works if your list is sorted!"
      ],
      "metadata": {
        "id": "k68aUo32t9zh"
      }
    },
    {
      "cell_type": "code",
      "source": [
        "def fibonacci_search(arr, target):\n",
        "    if not arr:\n",
        "        return -1\n",
        "    n = len(arr)\n",
        "    fib2 = 0\n",
        "    fib1 = 1\n",
        "    fib = fib1 + fib2\n",
        "    while fib < n:\n",
        "        fib2 = fib1\n",
        "        fib1 = fib\n",
        "        fib = fib1 + fib2\n",
        "    offset = -1\n",
        "    while fib > 1:\n",
        "        i = min(offset + fib2, n - 1)\n",
        "        if arr[i] < target:\n",
        "            fib = fib1\n",
        "            fib1 = fib2\n",
        "            fib2 = fib - fib1\n",
        "            offset = i\n",
        "        elif arr[i] > target:\n",
        "            fib = fib2\n",
        "            fib1 = fib1 - fib2\n",
        "            fib2 = fib - fib1\n",
        "        else:\n",
        "            return i\n",
        "    if fib1 and offset + 1 < n and arr[offset + 1] == target:\n",
        "        return offset + 1\n",
        "    return -1\n",
        "arr = [1, 3, 5, 7, 9, 11, 13]\n",
        "target = 9\n",
        "result = fibonacci_search(arr, target)\n",
        "print(f\"Element {target} found at index: {result}\")\n"
      ],
      "metadata": {
        "colab": {
          "base_uri": "https://localhost:8080/"
        },
        "outputId": "3097c9ff-6def-4182-aa46-24c44b13203a",
        "id": "gi-USfRGxMTi"
      },
      "execution_count": null,
      "outputs": [
        {
          "output_type": "stream",
          "name": "stdout",
          "text": [
            "Element 9 found at index: 4\n"
          ]
        }
      ]
    },
    {
      "cell_type": "code",
      "source": [],
      "metadata": {
        "id": "Lj2PQTaIvtAn"
      },
      "execution_count": null,
      "outputs": []
    }
  ]
}